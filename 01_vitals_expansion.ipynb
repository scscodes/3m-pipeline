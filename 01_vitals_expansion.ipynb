{
 "cells": [
  {
   "cell_type": "code",
   "id": "61cd8d38fb4e5a80",
   "metadata": {
    "ExecuteTime": {
     "end_time": "2025-01-28T15:18:40.381832Z",
     "start_time": "2025-01-28T15:18:40.174390Z"
    }
   },
   "source": [
    "import pandas as pd\n",
    "import matplotlib.pyplot as plt\n",
    "import seaborn as sns\n",
    "\n",
    "from setup_utils import setup_db_connection\n",
    "\n",
    "engine = setup_db_connection()"
   ],
   "outputs": [],
   "execution_count": 1
  },
  {
   "metadata": {
    "collapsed": true,
    "ExecuteTime": {
     "end_time": "2025-01-28T15:18:40.424176Z",
     "start_time": "2025-01-28T15:18:40.401804Z"
    }
   },
   "cell_type": "code",
   "source": [
    "\n",
    "from file_utils import load_dataframes\n",
    "\n",
    "# Define the unique filenames for loading (hash or unique IDs from when the DataFrames were saved)\n",
    "stored_dfs = load_dataframes([\n",
    "    \"daily_vitals\",\n",
    "    \"daily_vitals_cleaned\",\n",
    "    \"weekly_vitals\",\n",
    "    \"weekly_vitals_cleaned\",\n",
    "    \"monthly_vitals\",\n",
    "    \"monthly_vitals_cleaned\",\n",
    "    \n",
    "])\n"
   ],
   "id": "initial_id",
   "outputs": [
    {
     "name": "stdout",
     "output_type": "stream",
     "text": [
      "Loaded: output_data\\daily_vitals_cleaned_20250123_204446.csv\n",
      "Loaded: output_data\\daily_vitals_cleaned_20250123_204446.csv\n",
      "Loaded: output_data\\weekly_vitals_cleaned_20250123_204446.csv\n",
      "Loaded: output_data\\weekly_vitals_cleaned_20250123_204446.csv\n",
      "Loaded: output_data\\monthly_vitals_cleaned_20250123_204446.csv\n",
      "Loaded: output_data\\monthly_vitals_cleaned_20250123_204446.csv\n"
     ]
    }
   ],
   "execution_count": 2
  },
  {
   "metadata": {
    "ExecuteTime": {
     "end_time": "2025-01-28T15:18:40.945906Z",
     "start_time": "2025-01-28T15:18:40.942385Z"
    }
   },
   "cell_type": "code",
   "source": [
    "daily_vitals = stored_dfs[\"daily_vitals\"]\n",
    "daily_vitals_cleaned = stored_dfs[\"daily_vitals_cleaned\"]\n",
    "weekly_vitals = stored_dfs[\"weekly_vitals\"]\n",
    "weekly_vitals_cleaned = stored_dfs[\"weekly_vitals_cleaned\"]\n",
    "monthly_vitals = stored_dfs[\"monthly_vitals\"]\n",
    "monthly_vitals_cleaned = stored_dfs[\"monthly_vitals_cleaned\"]"
   ],
   "id": "2a660963b9c64020",
   "outputs": [],
   "execution_count": 3
  },
  {
   "metadata": {
    "ExecuteTime": {
     "end_time": "2025-01-28T15:18:40.980516Z",
     "start_time": "2025-01-28T15:18:40.968788Z"
    }
   },
   "cell_type": "code",
   "source": "daily_vitals_cleaned.head()",
   "id": "5eea9d1298be0dbf",
   "outputs": [
    {
     "data": {
      "text/plain": [
       "    charttime  heart_rate         sbp        dbp        mbp  resp_rate  \\\n",
       "0  2110-03-12   80.173913  108.350000  60.500000  74.850000  18.739130   \n",
       "1  2110-03-13   72.315789  115.176471  66.058824  81.611111  17.052632   \n",
       "2  2110-10-02   95.750000  121.611111  78.777778  94.444444  21.187500   \n",
       "3  2110-10-03   89.918919  112.880435  71.282609  84.804348  26.697368   \n",
       "4  2110-10-04   83.708333  106.958333  62.500000  76.562500  29.815789   \n",
       "\n",
       "   temperature       spo2  \n",
       "0    37.128333  95.409091  \n",
       "1    36.976000  95.052632  \n",
       "2    35.780000  95.250000  \n",
       "3    37.048750  96.270270  \n",
       "4    37.175000  94.541667  "
      ],
      "text/html": [
       "<div>\n",
       "<style scoped>\n",
       "    .dataframe tbody tr th:only-of-type {\n",
       "        vertical-align: middle;\n",
       "    }\n",
       "\n",
       "    .dataframe tbody tr th {\n",
       "        vertical-align: top;\n",
       "    }\n",
       "\n",
       "    .dataframe thead th {\n",
       "        text-align: right;\n",
       "    }\n",
       "</style>\n",
       "<table border=\"1\" class=\"dataframe\">\n",
       "  <thead>\n",
       "    <tr style=\"text-align: right;\">\n",
       "      <th></th>\n",
       "      <th>charttime</th>\n",
       "      <th>heart_rate</th>\n",
       "      <th>sbp</th>\n",
       "      <th>dbp</th>\n",
       "      <th>mbp</th>\n",
       "      <th>resp_rate</th>\n",
       "      <th>temperature</th>\n",
       "      <th>spo2</th>\n",
       "    </tr>\n",
       "  </thead>\n",
       "  <tbody>\n",
       "    <tr>\n",
       "      <th>0</th>\n",
       "      <td>2110-03-12</td>\n",
       "      <td>80.173913</td>\n",
       "      <td>108.350000</td>\n",
       "      <td>60.500000</td>\n",
       "      <td>74.850000</td>\n",
       "      <td>18.739130</td>\n",
       "      <td>37.128333</td>\n",
       "      <td>95.409091</td>\n",
       "    </tr>\n",
       "    <tr>\n",
       "      <th>1</th>\n",
       "      <td>2110-03-13</td>\n",
       "      <td>72.315789</td>\n",
       "      <td>115.176471</td>\n",
       "      <td>66.058824</td>\n",
       "      <td>81.611111</td>\n",
       "      <td>17.052632</td>\n",
       "      <td>36.976000</td>\n",
       "      <td>95.052632</td>\n",
       "    </tr>\n",
       "    <tr>\n",
       "      <th>2</th>\n",
       "      <td>2110-10-02</td>\n",
       "      <td>95.750000</td>\n",
       "      <td>121.611111</td>\n",
       "      <td>78.777778</td>\n",
       "      <td>94.444444</td>\n",
       "      <td>21.187500</td>\n",
       "      <td>35.780000</td>\n",
       "      <td>95.250000</td>\n",
       "    </tr>\n",
       "    <tr>\n",
       "      <th>3</th>\n",
       "      <td>2110-10-03</td>\n",
       "      <td>89.918919</td>\n",
       "      <td>112.880435</td>\n",
       "      <td>71.282609</td>\n",
       "      <td>84.804348</td>\n",
       "      <td>26.697368</td>\n",
       "      <td>37.048750</td>\n",
       "      <td>96.270270</td>\n",
       "    </tr>\n",
       "    <tr>\n",
       "      <th>4</th>\n",
       "      <td>2110-10-04</td>\n",
       "      <td>83.708333</td>\n",
       "      <td>106.958333</td>\n",
       "      <td>62.500000</td>\n",
       "      <td>76.562500</td>\n",
       "      <td>29.815789</td>\n",
       "      <td>37.175000</td>\n",
       "      <td>94.541667</td>\n",
       "    </tr>\n",
       "  </tbody>\n",
       "</table>\n",
       "</div>"
      ]
     },
     "execution_count": 4,
     "metadata": {},
     "output_type": "execute_result"
    }
   ],
   "execution_count": 4
  },
  {
   "metadata": {
    "ExecuteTime": {
     "end_time": "2025-01-29T01:18:27.784365Z",
     "start_time": "2025-01-29T01:18:27.779712Z"
    }
   },
   "cell_type": "code",
   "source": [
    "base_query = f\"\"\"\n",
    "WITH unique_patients AS (\n",
    "    SELECT DISTINCT subject_id\n",
    "    FROM mimiciv_hosp.patients\n",
    "    LIMIT 50  -- Adjust for larger populations\n",
    "),\n",
    "\n",
    "patient_data AS (\n",
    "    SELECT\n",
    "        p.subject_id,\n",
    "        p.gender,\n",
    "        p.anchor_age AS age,\n",
    "        p.dod AS date_of_death,\n",
    "        a.hadm_id,\n",
    "        a.admittime AS admission_time,\n",
    "        a.dischtime AS discharge_time,\n",
    "        i.stay_id,\n",
    "        i.intime AS icu_admission_time,\n",
    "        i.outtime AS icu_discharge_time,\n",
    "        i.los AS icu_length_of_stay\n",
    "    FROM mimiciv_hosp.patients p\n",
    "    INNER JOIN mimiciv_hosp.admissions a\n",
    "        ON p.subject_id = a.subject_id\n",
    "    INNER JOIN mimiciv_icu.icustays i\n",
    "        ON a.hadm_id = i.hadm_id\n",
    "    WHERE p.subject_id IN (SELECT subject_id FROM unique_patients)\n",
    "),\n",
    "\n",
    "severity_scores AS (\n",
    "    SELECT\n",
    "        aps.hadm_id,\n",
    "        aps.stay_id,\n",
    "        aps.apsiii AS apsiii_score,\n",
    "        lod.lods AS lods_score,\n",
    "        oasis.oasis AS oasis_score,\n",
    "        sap.sapsii AS sapsii_score,\n",
    "        sirs.sirs AS sirs_score,\n",
    "        sep.sepsis3\n",
    "    FROM mimiciv_derived.apsiii aps\n",
    "    LEFT JOIN mimiciv_derived.lods lod\n",
    "        ON aps.hadm_id = lod.hadm_id AND aps.stay_id = lod.stay_id\n",
    "    LEFT JOIN mimiciv_derived.oasis oasis\n",
    "        ON aps.hadm_id = oasis.hadm_id AND aps.stay_id = oasis.stay_id\n",
    "    LEFT JOIN mimiciv_derived.sapsii sap\n",
    "        ON aps.hadm_id = sap.hadm_id AND aps.stay_id = sap.stay_id\n",
    "    LEFT JOIN mimiciv_derived.sirs sirs\n",
    "        ON aps.hadm_id = sirs.hadm_id AND aps.stay_id = sirs.stay_id\n",
    "    LEFT JOIN mimiciv_derived.sepsis3 sep\n",
    "        ON aps.hadm_id = sap.hadm_id AND aps.stay_id = sap.stay_id\n",
    "    WHERE aps.hadm_id IN (SELECT hadm_id FROM patient_data)\n",
    "),\n",
    "\n",
    "vitals AS (\n",
    "    SELECT\n",
    "        ce.subject_id,\n",
    "        ce.hadm_id,\n",
    "        ce.stay_id,\n",
    "        ce.charttime,\n",
    "        MAX(CASE WHEN ce.itemid = 220045 THEN ce.valuenum END) AS heart_rate,\n",
    "        MAX(CASE WHEN ce.itemid = 220179 THEN ce.valuenum END) AS systolic_bp,\n",
    "        MAX(CASE WHEN ce.itemid = 220180 THEN ce.valuenum END) AS diastolic_bp,\n",
    "        MAX(CASE WHEN ce.itemid = 220210 THEN ce.valuenum END) AS respiratory_rate,\n",
    "        MAX(CASE WHEN ce.itemid = 223761 THEN ce.valuenum END) AS temperature_fahrenheit,\n",
    "        MAX(CASE WHEN ce.itemid = 223762 THEN ce.valuenum END) AS temperature_celsius,\n",
    "        MAX(CASE WHEN ce.itemid = 220739 THEN ce.valuenum END) AS oxygen_saturation\n",
    "    FROM mimiciv_icu.chartevents ce\n",
    "    WHERE ce.subject_id IN (SELECT subject_id FROM unique_patients)\n",
    "    GROUP BY ce.subject_id, ce.hadm_id, ce.stay_id, ce.charttime\n",
    "),\n",
    "\n",
    "labs AS (\n",
    "    SELECT\n",
    "        le.subject_id,\n",
    "        le.hadm_id,\n",
    "        le.charttime,\n",
    "        MAX(CASE WHEN le.itemid = 50882 THEN le.valuenum END) AS bilirubin,\n",
    "        MAX(CASE WHEN le.itemid = 50912 THEN le.valuenum END) AS creatinine,\n",
    "        MAX(CASE WHEN le.itemid = 50971 THEN le.valuenum END) AS glucose\n",
    "    FROM mimiciv_hosp.labevents le\n",
    "    WHERE le.subject_id IN (SELECT subject_id FROM unique_patients)\n",
    "    GROUP BY le.subject_id, le.hadm_id, le.charttime\n",
    ")\n",
    "\n",
    "SELECT\n",
    "    pd.*, -- Basic details of patients\n",
    "    ss.apsiii_score,\n",
    "    ss.lods_score,\n",
    "    ss.oasis_score,\n",
    "    ss.sapsii_score,\n",
    "    ss.sirs_score,\n",
    "    ss.sepsis3,\n",
    "    v.charttime,\n",
    "    v.heart_rate,\n",
    "    v.systolic_bp,\n",
    "    v.diastolic_bp,\n",
    "    v.respiratory_rate,\n",
    "    v.temperature_fahrenheit,\n",
    "    v.temperature_celsius,\n",
    "    v.oxygen_saturation,\n",
    "    l.bilirubin,\n",
    "    l.creatinine,\n",
    "    l.glucose\n",
    "FROM patient_data pd\n",
    "LEFT JOIN severity_scores ss\n",
    "    ON pd.hadm_id = ss.hadm_id AND pd.stay_id = ss.stay_id\n",
    "LEFT JOIN vitals v\n",
    "    ON pd.subject_id = v.subject_id\n",
    "    AND pd.hadm_id = v.hadm_id\n",
    "    AND pd.stay_id = v.stay_id\n",
    "LEFT JOIN labs l\n",
    "    ON pd.subject_id = l.subject_id\n",
    "    AND pd.hadm_id = l.hadm_id\n",
    "    AND v.charttime = l.charttime\n",
    "ORDER BY pd.subject_id, pd.hadm_id, pd.stay_id, v.charttime;\n",
    "\n",
    "\"\"\""
   ],
   "id": "13b6f43fd9f1757d",
   "outputs": [],
   "execution_count": 5
  },
  {
   "metadata": {
    "ExecuteTime": {
     "end_time": "2025-01-29T01:26:59.745455Z",
     "start_time": "2025-01-29T01:18:32.742627Z"
    }
   },
   "cell_type": "code",
   "source": "df = pd.read_sql(base_query, engine)",
   "id": "2c19f006372a13c1",
   "outputs": [],
   "execution_count": 6
  },
  {
   "metadata": {
    "ExecuteTime": {
     "end_time": "2025-01-29T01:27:00.417100Z",
     "start_time": "2025-01-29T01:27:00.348038Z"
    }
   },
   "cell_type": "code",
   "source": "df.info()",
   "id": "58ab4528fafd7cf1",
   "outputs": [
    {
     "name": "stdout",
     "output_type": "stream",
     "text": [
      "<class 'pandas.core.frame.DataFrame'>\n",
      "RangeIndex: 17261728 entries, 0 to 17261727\n",
      "Data columns (total 28 columns):\n",
      " #   Column                  Dtype         \n",
      "---  ------                  -----         \n",
      " 0   subject_id              int64         \n",
      " 1   gender                  object        \n",
      " 2   age                     int64         \n",
      " 3   date_of_death           object        \n",
      " 4   hadm_id                 int64         \n",
      " 5   admission_time          datetime64[ns]\n",
      " 6   discharge_time          datetime64[ns]\n",
      " 7   stay_id                 int64         \n",
      " 8   icu_admission_time      datetime64[ns]\n",
      " 9   icu_discharge_time      datetime64[ns]\n",
      " 10  icu_length_of_stay      float64       \n",
      " 11  apsiii_score            int64         \n",
      " 12  lods_score              int64         \n",
      " 13  oasis_score             int64         \n",
      " 14  sapsii_score            int64         \n",
      " 15  sirs_score              int64         \n",
      " 16  sepsis3                 bool          \n",
      " 17  charttime               datetime64[ns]\n",
      " 18  heart_rate              float64       \n",
      " 19  systolic_bp             float64       \n",
      " 20  diastolic_bp            float64       \n",
      " 21  respiratory_rate        float64       \n",
      " 22  temperature_fahrenheit  float64       \n",
      " 23  temperature_celsius     object        \n",
      " 24  oxygen_saturation       float64       \n",
      " 25  bilirubin               float64       \n",
      " 26  creatinine              float64       \n",
      " 27  glucose                 float64       \n",
      "dtypes: bool(1), datetime64[ns](5), float64(10), int64(9), object(3)\n",
      "memory usage: 3.5+ GB\n"
     ]
    }
   ],
   "execution_count": 7
  },
  {
   "metadata": {
    "ExecuteTime": {
     "end_time": "2025-01-27T20:54:13.058335Z",
     "start_time": "2025-01-27T20:49:04.550533Z"
    }
   },
   "cell_type": "code",
   "source": "print(f\"Number of unique values in 'gender' column: {df['gender'].nunique()}\")",
   "id": "aeaa67d7da66ae0e",
   "outputs": [
    {
     "name": "stdout",
     "output_type": "stream",
     "text": [
      "Number of unique values in 'gender' column: 1\n"
     ]
    }
   ],
   "execution_count": 22
  },
  {
   "metadata": {
    "ExecuteTime": {
     "end_time": "2025-01-27T20:48:13.676718Z",
     "start_time": "2025-01-27T20:48:13.498509Z"
    }
   },
   "cell_type": "code",
   "source": [
    "df.info()\n",
    "df['age_group'] = pd.cut(df['age'], bins=range(0, 120, 10), right=False, \n",
    "                         labels=[f\"{i}-{i+9}\" for i in range(0, 110, 10)])\n",
    "df.info()\n",
    "\n",
    "# Quickly review the number of people in each age group and gender\n",
    "age_gender_summary = df.groupby(['age_group', 'gender']).size().reset_index(name='count')\n",
    "print(age_gender_summary)"
   ],
   "id": "3b43ed23fb83d3dc",
   "outputs": [
    {
     "name": "stdout",
     "output_type": "stream",
     "text": [
      "<class 'pandas.core.frame.DataFrame'>\n",
      "RangeIndex: 1858320 entries, 0 to 1858319\n",
      "Data columns (total 29 columns):\n",
      " #   Column                  Dtype         \n",
      "---  ------                  -----         \n",
      " 0   subject_id              int64         \n",
      " 1   gender                  object        \n",
      " 2   age                     int64         \n",
      " 3   date_of_death           object        \n",
      " 4   hadm_id                 int64         \n",
      " 5   admission_time          datetime64[ns]\n",
      " 6   discharge_time          datetime64[ns]\n",
      " 7   stay_id                 int64         \n",
      " 8   icu_admission_time      datetime64[ns]\n",
      " 9   icu_discharge_time      datetime64[ns]\n",
      " 10  icu_length_of_stay      float64       \n",
      " 11  apsiii_score            int64         \n",
      " 12  lods_score              int64         \n",
      " 13  oasis_score             int64         \n",
      " 14  sapsii_score            int64         \n",
      " 15  sirs_score              int64         \n",
      " 16  sepsis3                 bool          \n",
      " 17  charttime               datetime64[ns]\n",
      " 18  heart_rate              float64       \n",
      " 19  systolic_bp             float64       \n",
      " 20  diastolic_bp            float64       \n",
      " 21  respiratory_rate        float64       \n",
      " 22  temperature_fahrenheit  float64       \n",
      " 23  temperature_celsius     object        \n",
      " 24  oxygen_saturation       float64       \n",
      " 25  bilirubin               float64       \n",
      " 26  creatinine              float64       \n",
      " 27  glucose                 float64       \n",
      " 28  age_group               category      \n",
      "dtypes: bool(1), category(1), datetime64[ns](5), float64(10), int64(9), object(3)\n",
      "memory usage: 386.3+ MB\n",
      "<class 'pandas.core.frame.DataFrame'>\n",
      "RangeIndex: 1858320 entries, 0 to 1858319\n",
      "Data columns (total 29 columns):\n",
      " #   Column                  Dtype         \n",
      "---  ------                  -----         \n",
      " 0   subject_id              int64         \n",
      " 1   gender                  object        \n",
      " 2   age                     int64         \n",
      " 3   date_of_death           object        \n",
      " 4   hadm_id                 int64         \n",
      " 5   admission_time          datetime64[ns]\n",
      " 6   discharge_time          datetime64[ns]\n",
      " 7   stay_id                 int64         \n",
      " 8   icu_admission_time      datetime64[ns]\n",
      " 9   icu_discharge_time      datetime64[ns]\n",
      " 10  icu_length_of_stay      float64       \n",
      " 11  apsiii_score            int64         \n",
      " 12  lods_score              int64         \n",
      " 13  oasis_score             int64         \n",
      " 14  sapsii_score            int64         \n",
      " 15  sirs_score              int64         \n",
      " 16  sepsis3                 bool          \n",
      " 17  charttime               datetime64[ns]\n",
      " 18  heart_rate              float64       \n",
      " 19  systolic_bp             float64       \n",
      " 20  diastolic_bp            float64       \n",
      " 21  respiratory_rate        float64       \n",
      " 22  temperature_fahrenheit  float64       \n",
      " 23  temperature_celsius     object        \n",
      " 24  oxygen_saturation       float64       \n",
      " 25  bilirubin               float64       \n",
      " 26  creatinine              float64       \n",
      " 27  glucose                 float64       \n",
      " 28  age_group               category      \n",
      "dtypes: bool(1), category(1), datetime64[ns](5), float64(10), int64(9), object(3)\n",
      "memory usage: 386.3+ MB\n",
      "   age_group gender    count\n",
      "0        0-9      F        0\n",
      "1      10-19      F        0\n",
      "2      20-29      F        0\n",
      "3      30-39      F        0\n",
      "4      40-49      F        0\n",
      "5      50-59      F  1858320\n",
      "6      60-69      F        0\n",
      "7      70-79      F        0\n",
      "8      80-89      F        0\n",
      "9      90-99      F        0\n",
      "10   100-109      F        0\n"
     ]
    },
    {
     "name": "stderr",
     "output_type": "stream",
     "text": [
      "C:\\Users\\steve\\AppData\\Local\\Temp\\ipykernel_22720\\4069753463.py:7: FutureWarning: The default of observed=False is deprecated and will be changed to True in a future version of pandas. Pass observed=False to retain current behavior or observed=True to adopt the future default and silence this warning.\n",
      "  age_gender_summary = df.groupby(['age_group', 'gender']).size().reset_index(name='count')\n"
     ]
    }
   ],
   "execution_count": 20
  },
  {
   "metadata": {
    "ExecuteTime": {
     "end_time": "2025-01-27T20:40:37.479212Z",
     "start_time": "2025-01-27T20:40:37.326454Z"
    }
   },
   "cell_type": "code",
   "source": [
    "\n",
    "df['age_group'] = pd.cut(df['age'], bins=[0, 20, 40, 60, 80, 100], labels=['0-20', '21-40', '41-60', '61-80', '81+'])\n",
    "age_gender_dist = df.groupby(['age_group', 'gender'], observed=False).size().unstack()"
   ],
   "id": "2ccd857d7625a525",
   "outputs": [],
   "execution_count": 16
  },
  {
   "metadata": {
    "ExecuteTime": {
     "end_time": "2025-01-27T20:45:45.888976Z",
     "start_time": "2025-01-27T20:45:45.726824Z"
    }
   },
   "cell_type": "code",
   "source": [
    "# Inspect the age_gender_dist DataFrame\n",
    "print(age_gender_dist)\n",
    "\n",
    "# Plot the various bins with proper visualization\n",
    "import matplotlib.pyplot as plt\n",
    "\n",
    "# Create a plot for age_gender_dist\n",
    "age_gender_dist.plot(kind='bar', stacked=True, figsize=(10, 6))\n",
    "plt.title(\"Age and Gender Distribution\")\n",
    "plt.xlabel(\"Age Groups\")\n",
    "plt.ylabel(\"Count\")\n",
    "plt.legend(title=\"Gender\")\n",
    "plt.tight_layout()\n",
    "plt.show()"
   ],
   "id": "77fdc2c65a025ea6",
   "outputs": [
    {
     "name": "stdout",
     "output_type": "stream",
     "text": [
      "gender           F\n",
      "age_group         \n",
      "0-20             0\n",
      "21-40            0\n",
      "41-60      1858320\n",
      "61-80            0\n",
      "81+              0\n"
     ]
    },
    {
     "data": {
      "text/plain": [
       "<Figure size 1000x600 with 1 Axes>"
      ],
      "image/png": "[encoded data removed]"
     },
     "metadata": {},
     "output_type": "display_data"
    }
   ],
   "execution_count": 18
  },
  {
   "metadata": {},
   "cell_type": "code",
   "outputs": [],
   "execution_count": null,
   "source": [
    "# mortality by group\n",
    "df['is_deceased'] = ~df['date_of_death'].isna()\n",
    "mortality_rate = df.groupby('age_group')['is_deceased'].mean() * 100\n",
    "severity_mortality = df.groupby('apsiii_score')['is_deceased'].mean()"
   ],
   "id": "30a11fb4f1f4663c"
  },
  {
   "metadata": {},
   "cell_type": "code",
   "outputs": [],
   "execution_count": null,
   "source": [
    "# icu los by group\n",
    "los_by_age = df.groupby('age_group')['icu_length_of_stay'].mean()\n",
    "los_by_severity = df.groupby('apsiii_score')['icu_length_of_stay'].mean()\n"
   ],
   "id": "458cbd509d301bcb"
  },
  {
   "metadata": {},
   "cell_type": "code",
   "outputs": [],
   "execution_count": null,
   "source": [
    "# general vitals\n",
    "vital_summary = df[['heart_rate', 'systolic_bp', 'diastolic_bp', 'oxygen_saturation', \n",
    "                    'respiratory_rate', 'temperature_fahrenheit', 'temperature_celsius', \n",
    "                    'bilirubin', 'creatinine']].describe()"
   ],
   "id": "7d9669b0ecf716d1"
  },
  {
   "metadata": {},
   "cell_type": "code",
   "outputs": [],
   "execution_count": null,
   "source": [
    "# lab analysis\n",
    "abnormal_bilirubin = df[df['bilirubin'] > 2.0]\n",
    "abnormal_creatinine = df[df['creatinine'] > 1.2]\n",
    "abnormal_glucose = df[(df['glucose'] < 70) | (df['glucose'] > 140)] "
   ],
   "id": "a95aa6e07f0a3825"
  },
  {
   "metadata": {},
   "cell_type": "code",
   "outputs": [],
   "execution_count": null,
   "source": "",
   "id": "813587b8f5146edd"
  }
 ],
 "metadata": {
  "kernelspec": {
   "display_name": "Python 3",
   "language": "python",
   "name": "python3"
  },
  "language_info": {
   "codemirror_mode": {
    "name": "ipython",
    "version": 2
   },
   "file_extension": ".py",
   "mimetype": "text/x-python",
   "name": "python",
   "nbconvert_exporter": "python",
   "pygments_lexer": "ipython2",
   "version": "2.7.6"
  }
 },
 "nbformat": 4,
 "nbformat_minor": 5
}
